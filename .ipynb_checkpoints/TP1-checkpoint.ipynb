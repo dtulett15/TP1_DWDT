{
 "cells": [
  {
   "cell_type": "markdown",
   "metadata": {},
   "source": [
    "# Wine Quality Predictor\n",
    "---\n",
    "**Author:** Dylan Tulett, Brian Johnston  \n",
    "**Version:** 1.0  \n",
    "**Date** April 2021  \n",
    "**Solution** Produce a machine learning model to judge wine quality."
   ]
  },
  {
   "cell_type": "markdown",
   "metadata": {},
   "source": [
    "# 1.0 Reading in Data"
   ]
  },
  {
   "cell_type": "code",
   "execution_count": 2,
   "metadata": {},
   "outputs": [],
   "source": [
    "import pandas as pd\n",
    "import numpy as np\n",
    "import seaborn as sns\n",
    "import matplotlib.pyplot as plt\n",
    "%matplotlib inline"
   ]
  },
  {
   "cell_type": "code",
   "execution_count": 3,
   "metadata": {},
   "outputs": [],
   "source": [
    "reds = pd.read_csv(\"winequality-red.csv\")"
   ]
  },
  {
   "cell_type": "code",
   "execution_count": 4,
   "metadata": {},
   "outputs": [
    {
     "data": {
      "text/html": [
       "<div>\n",
       "<style scoped>\n",
       "    .dataframe tbody tr th:only-of-type {\n",
       "        vertical-align: middle;\n",
       "    }\n",
       "\n",
       "    .dataframe tbody tr th {\n",
       "        vertical-align: top;\n",
       "    }\n",
       "\n",
       "    .dataframe thead th {\n",
       "        text-align: right;\n",
       "    }\n",
       "</style>\n",
       "<table border=\"1\" class=\"dataframe\">\n",
       "  <thead>\n",
       "    <tr style=\"text-align: right;\">\n",
       "      <th></th>\n",
       "      <th>fixed acidity</th>\n",
       "      <th>volatile acidity</th>\n",
       "      <th>citric acid</th>\n",
       "      <th>residual sugar</th>\n",
       "      <th>chlorides</th>\n",
       "      <th>free sulfur dioxide</th>\n",
       "      <th>total sulfur dioxide</th>\n",
       "      <th>density</th>\n",
       "      <th>pH</th>\n",
       "      <th>sulphates</th>\n",
       "      <th>alcohol</th>\n",
       "      <th>quality</th>\n",
       "    </tr>\n",
       "  </thead>\n",
       "  <tbody>\n",
       "    <tr>\n",
       "      <th>1513</th>\n",
       "      <td>6.4</td>\n",
       "      <td>0.560</td>\n",
       "      <td>0.15</td>\n",
       "      <td>1.8</td>\n",
       "      <td>0.078</td>\n",
       "      <td>17.0</td>\n",
       "      <td>65.0</td>\n",
       "      <td>0.99294</td>\n",
       "      <td>3.33</td>\n",
       "      <td>0.60</td>\n",
       "      <td>10.5</td>\n",
       "      <td>6</td>\n",
       "    </tr>\n",
       "    <tr>\n",
       "      <th>427</th>\n",
       "      <td>9.5</td>\n",
       "      <td>0.780</td>\n",
       "      <td>0.22</td>\n",
       "      <td>1.9</td>\n",
       "      <td>0.077</td>\n",
       "      <td>6.0</td>\n",
       "      <td>32.0</td>\n",
       "      <td>0.99880</td>\n",
       "      <td>3.26</td>\n",
       "      <td>0.56</td>\n",
       "      <td>10.6</td>\n",
       "      <td>6</td>\n",
       "    </tr>\n",
       "    <tr>\n",
       "      <th>1278</th>\n",
       "      <td>8.0</td>\n",
       "      <td>0.715</td>\n",
       "      <td>0.22</td>\n",
       "      <td>2.3</td>\n",
       "      <td>0.075</td>\n",
       "      <td>13.0</td>\n",
       "      <td>81.0</td>\n",
       "      <td>0.99688</td>\n",
       "      <td>3.24</td>\n",
       "      <td>0.54</td>\n",
       "      <td>9.5</td>\n",
       "      <td>6</td>\n",
       "    </tr>\n",
       "  </tbody>\n",
       "</table>\n",
       "</div>"
      ],
      "text/plain": [
       "      fixed acidity  volatile acidity  citric acid  residual sugar  chlorides  \\\n",
       "1513            6.4             0.560         0.15             1.8      0.078   \n",
       "427             9.5             0.780         0.22             1.9      0.077   \n",
       "1278            8.0             0.715         0.22             2.3      0.075   \n",
       "\n",
       "      free sulfur dioxide  total sulfur dioxide  density    pH  sulphates  \\\n",
       "1513                 17.0                  65.0  0.99294  3.33       0.60   \n",
       "427                   6.0                  32.0  0.99880  3.26       0.56   \n",
       "1278                 13.0                  81.0  0.99688  3.24       0.54   \n",
       "\n",
       "      alcohol  quality  \n",
       "1513     10.5        6  \n",
       "427      10.6        6  \n",
       "1278      9.5        6  "
      ]
     },
     "execution_count": 4,
     "metadata": {},
     "output_type": "execute_result"
    }
   ],
   "source": [
    "reds.sample(3)"
   ]
  },
  {
   "cell_type": "code",
   "execution_count": 5,
   "metadata": {},
   "outputs": [
    {
     "data": {
      "text/html": [
       "<div>\n",
       "<style scoped>\n",
       "    .dataframe tbody tr th:only-of-type {\n",
       "        vertical-align: middle;\n",
       "    }\n",
       "\n",
       "    .dataframe tbody tr th {\n",
       "        vertical-align: top;\n",
       "    }\n",
       "\n",
       "    .dataframe thead th {\n",
       "        text-align: right;\n",
       "    }\n",
       "</style>\n",
       "<table border=\"1\" class=\"dataframe\">\n",
       "  <thead>\n",
       "    <tr style=\"text-align: right;\">\n",
       "      <th></th>\n",
       "      <th>fixed acidity</th>\n",
       "      <th>volatile acidity</th>\n",
       "      <th>citric acid</th>\n",
       "      <th>residual sugar</th>\n",
       "      <th>chlorides</th>\n",
       "      <th>free sulfur dioxide</th>\n",
       "      <th>total sulfur dioxide</th>\n",
       "      <th>density</th>\n",
       "      <th>pH</th>\n",
       "      <th>sulphates</th>\n",
       "      <th>alcohol</th>\n",
       "      <th>quality</th>\n",
       "    </tr>\n",
       "  </thead>\n",
       "  <tbody>\n",
       "    <tr>\n",
       "      <th>0</th>\n",
       "      <td>7.4</td>\n",
       "      <td>0.700</td>\n",
       "      <td>0.00</td>\n",
       "      <td>1.9</td>\n",
       "      <td>0.076</td>\n",
       "      <td>11.0</td>\n",
       "      <td>34.0</td>\n",
       "      <td>0.99780</td>\n",
       "      <td>3.51</td>\n",
       "      <td>0.56</td>\n",
       "      <td>9.4</td>\n",
       "      <td>5</td>\n",
       "    </tr>\n",
       "    <tr>\n",
       "      <th>1</th>\n",
       "      <td>7.8</td>\n",
       "      <td>0.880</td>\n",
       "      <td>0.00</td>\n",
       "      <td>2.6</td>\n",
       "      <td>0.098</td>\n",
       "      <td>25.0</td>\n",
       "      <td>67.0</td>\n",
       "      <td>0.99680</td>\n",
       "      <td>3.20</td>\n",
       "      <td>0.68</td>\n",
       "      <td>9.8</td>\n",
       "      <td>5</td>\n",
       "    </tr>\n",
       "    <tr>\n",
       "      <th>2</th>\n",
       "      <td>7.8</td>\n",
       "      <td>0.760</td>\n",
       "      <td>0.04</td>\n",
       "      <td>2.3</td>\n",
       "      <td>0.092</td>\n",
       "      <td>15.0</td>\n",
       "      <td>54.0</td>\n",
       "      <td>0.99700</td>\n",
       "      <td>3.26</td>\n",
       "      <td>0.65</td>\n",
       "      <td>9.8</td>\n",
       "      <td>5</td>\n",
       "    </tr>\n",
       "    <tr>\n",
       "      <th>3</th>\n",
       "      <td>11.2</td>\n",
       "      <td>0.280</td>\n",
       "      <td>0.56</td>\n",
       "      <td>1.9</td>\n",
       "      <td>0.075</td>\n",
       "      <td>17.0</td>\n",
       "      <td>60.0</td>\n",
       "      <td>0.99800</td>\n",
       "      <td>3.16</td>\n",
       "      <td>0.58</td>\n",
       "      <td>9.8</td>\n",
       "      <td>6</td>\n",
       "    </tr>\n",
       "    <tr>\n",
       "      <th>4</th>\n",
       "      <td>7.4</td>\n",
       "      <td>0.700</td>\n",
       "      <td>0.00</td>\n",
       "      <td>1.9</td>\n",
       "      <td>0.076</td>\n",
       "      <td>11.0</td>\n",
       "      <td>34.0</td>\n",
       "      <td>0.99780</td>\n",
       "      <td>3.51</td>\n",
       "      <td>0.56</td>\n",
       "      <td>9.4</td>\n",
       "      <td>5</td>\n",
       "    </tr>\n",
       "    <tr>\n",
       "      <th>...</th>\n",
       "      <td>...</td>\n",
       "      <td>...</td>\n",
       "      <td>...</td>\n",
       "      <td>...</td>\n",
       "      <td>...</td>\n",
       "      <td>...</td>\n",
       "      <td>...</td>\n",
       "      <td>...</td>\n",
       "      <td>...</td>\n",
       "      <td>...</td>\n",
       "      <td>...</td>\n",
       "      <td>...</td>\n",
       "    </tr>\n",
       "    <tr>\n",
       "      <th>1594</th>\n",
       "      <td>6.2</td>\n",
       "      <td>0.600</td>\n",
       "      <td>0.08</td>\n",
       "      <td>2.0</td>\n",
       "      <td>0.090</td>\n",
       "      <td>32.0</td>\n",
       "      <td>44.0</td>\n",
       "      <td>0.99490</td>\n",
       "      <td>3.45</td>\n",
       "      <td>0.58</td>\n",
       "      <td>10.5</td>\n",
       "      <td>5</td>\n",
       "    </tr>\n",
       "    <tr>\n",
       "      <th>1595</th>\n",
       "      <td>5.9</td>\n",
       "      <td>0.550</td>\n",
       "      <td>0.10</td>\n",
       "      <td>2.2</td>\n",
       "      <td>0.062</td>\n",
       "      <td>39.0</td>\n",
       "      <td>51.0</td>\n",
       "      <td>0.99512</td>\n",
       "      <td>3.52</td>\n",
       "      <td>0.76</td>\n",
       "      <td>11.2</td>\n",
       "      <td>6</td>\n",
       "    </tr>\n",
       "    <tr>\n",
       "      <th>1596</th>\n",
       "      <td>6.3</td>\n",
       "      <td>0.510</td>\n",
       "      <td>0.13</td>\n",
       "      <td>2.3</td>\n",
       "      <td>0.076</td>\n",
       "      <td>29.0</td>\n",
       "      <td>40.0</td>\n",
       "      <td>0.99574</td>\n",
       "      <td>3.42</td>\n",
       "      <td>0.75</td>\n",
       "      <td>11.0</td>\n",
       "      <td>6</td>\n",
       "    </tr>\n",
       "    <tr>\n",
       "      <th>1597</th>\n",
       "      <td>5.9</td>\n",
       "      <td>0.645</td>\n",
       "      <td>0.12</td>\n",
       "      <td>2.0</td>\n",
       "      <td>0.075</td>\n",
       "      <td>32.0</td>\n",
       "      <td>44.0</td>\n",
       "      <td>0.99547</td>\n",
       "      <td>3.57</td>\n",
       "      <td>0.71</td>\n",
       "      <td>10.2</td>\n",
       "      <td>5</td>\n",
       "    </tr>\n",
       "    <tr>\n",
       "      <th>1598</th>\n",
       "      <td>6.0</td>\n",
       "      <td>0.310</td>\n",
       "      <td>0.47</td>\n",
       "      <td>3.6</td>\n",
       "      <td>0.067</td>\n",
       "      <td>18.0</td>\n",
       "      <td>42.0</td>\n",
       "      <td>0.99549</td>\n",
       "      <td>3.39</td>\n",
       "      <td>0.66</td>\n",
       "      <td>11.0</td>\n",
       "      <td>6</td>\n",
       "    </tr>\n",
       "  </tbody>\n",
       "</table>\n",
       "<p>1599 rows × 12 columns</p>\n",
       "</div>"
      ],
      "text/plain": [
       "      fixed acidity  volatile acidity  citric acid  residual sugar  chlorides  \\\n",
       "0               7.4             0.700         0.00             1.9      0.076   \n",
       "1               7.8             0.880         0.00             2.6      0.098   \n",
       "2               7.8             0.760         0.04             2.3      0.092   \n",
       "3              11.2             0.280         0.56             1.9      0.075   \n",
       "4               7.4             0.700         0.00             1.9      0.076   \n",
       "...             ...               ...          ...             ...        ...   \n",
       "1594            6.2             0.600         0.08             2.0      0.090   \n",
       "1595            5.9             0.550         0.10             2.2      0.062   \n",
       "1596            6.3             0.510         0.13             2.3      0.076   \n",
       "1597            5.9             0.645         0.12             2.0      0.075   \n",
       "1598            6.0             0.310         0.47             3.6      0.067   \n",
       "\n",
       "      free sulfur dioxide  total sulfur dioxide  density    pH  sulphates  \\\n",
       "0                    11.0                  34.0  0.99780  3.51       0.56   \n",
       "1                    25.0                  67.0  0.99680  3.20       0.68   \n",
       "2                    15.0                  54.0  0.99700  3.26       0.65   \n",
       "3                    17.0                  60.0  0.99800  3.16       0.58   \n",
       "4                    11.0                  34.0  0.99780  3.51       0.56   \n",
       "...                   ...                   ...      ...   ...        ...   \n",
       "1594                 32.0                  44.0  0.99490  3.45       0.58   \n",
       "1595                 39.0                  51.0  0.99512  3.52       0.76   \n",
       "1596                 29.0                  40.0  0.99574  3.42       0.75   \n",
       "1597                 32.0                  44.0  0.99547  3.57       0.71   \n",
       "1598                 18.0                  42.0  0.99549  3.39       0.66   \n",
       "\n",
       "      alcohol  quality  \n",
       "0         9.4        5  \n",
       "1         9.8        5  \n",
       "2         9.8        5  \n",
       "3         9.8        6  \n",
       "4         9.4        5  \n",
       "...       ...      ...  \n",
       "1594     10.5        5  \n",
       "1595     11.2        6  \n",
       "1596     11.0        6  \n",
       "1597     10.2        5  \n",
       "1598     11.0        6  \n",
       "\n",
       "[1599 rows x 12 columns]"
      ]
     },
     "execution_count": 5,
     "metadata": {},
     "output_type": "execute_result"
    }
   ],
   "source": [
    "reds"
   ]
  },
  {
   "cell_type": "code",
   "execution_count": 6,
   "metadata": {},
   "outputs": [],
   "source": [
    "reds.columns = ['fixed_acid', 'vol_acid', 'cit_acid','sugar', 'chlorides','free_so2',\n",
    "                'tot_so2', 'density', 'pH', 'sulphates', 'alcohol', 'quality']"
   ]
  },
  {
   "cell_type": "markdown",
   "metadata": {},
   "source": [
    "# 2.0 Splitting Data"
   ]
  },
  {
   "cell_type": "code",
   "execution_count": 7,
   "metadata": {},
   "outputs": [],
   "source": [
    "from sklearn.model_selection import train_test_split"
   ]
  },
  {
   "cell_type": "code",
   "execution_count": 8,
   "metadata": {},
   "outputs": [],
   "source": [
    "X = np.array(reds[['fixed_acid','sugar','alcohol']])\n",
    "y = np.array(reds['quality'])\n",
    "\n",
    "x_train, x_test_prime, y_train, y_test_prime = train_test_split(X, y, test_size=.40, random_state=49)\n",
    "x_validate, x_test, y_validate, y_test = train_test_split(x_test_prime, y_test_prime, test_size=.50, random_state=49)"
   ]
  },
  {
   "cell_type": "markdown",
   "metadata": {},
   "source": [
    "NOTE: multiple column combinations were tried for the X array. The one that was selected is the one that got the best score in part 4.0. This happened to be the fixed acid, sugar, and alcohol columns together"
   ]
  },
  {
   "cell_type": "code",
   "execution_count": 9,
   "metadata": {},
   "outputs": [
    {
     "name": "stdout",
     "output_type": "stream",
     "text": [
      "959 320 320\n"
     ]
    }
   ],
   "source": [
    "print(len(x_train), len(x_validate), len(x_test))"
   ]
  },
  {
   "cell_type": "markdown",
   "metadata": {},
   "source": [
    "# 3.0 Normalizing the Data\n",
    "- For this, the standard deviation will be used to scale the data\n",
    "- Don't need to normalize the y data because this is what we are guessing for"
   ]
  },
  {
   "cell_type": "code",
   "execution_count": 37,
   "metadata": {},
   "outputs": [],
   "source": [
    "def std_scaler(x):\n",
    "    \"\"\"This function takes an np.array and normalizes the data \n",
    "    by standard deviation\"\"\"\n",
    "    mean = np.mean(x)\n",
    "    std = np.std(x)\n",
    "    output = (x-mean)/std\n",
    "    return output"
   ]
  },
  {
   "cell_type": "code",
   "execution_count": 11,
   "metadata": {},
   "outputs": [],
   "source": [
    "x_train_scaled = std_scaler(x_train)\n",
    "x_validate_scaled = std_scaler(x_validate)\n",
    "x_test_scaled = std_scaler(x_test)"
   ]
  },
  {
   "cell_type": "markdown",
   "metadata": {},
   "source": [
    "# 4.0 Training Different Models"
   ]
  },
  {
   "cell_type": "markdown",
   "metadata": {},
   "source": [
    "## 4.1 kn Neighbour"
   ]
  },
  {
   "cell_type": "code",
   "execution_count": 12,
   "metadata": {},
   "outputs": [],
   "source": [
    "from sklearn.neighbors import KNeighborsClassifier\n",
    "from sklearn import metrics"
   ]
  },
  {
   "cell_type": "code",
   "execution_count": 13,
   "metadata": {},
   "outputs": [
    {
     "data": {
      "text/plain": [
       "KNeighborsClassifier()"
      ]
     },
     "execution_count": 13,
     "metadata": {},
     "output_type": "execute_result"
    }
   ],
   "source": [
    "knn_model = KNeighborsClassifier(n_neighbors=5)\n",
    "knn_model.fit(x_train, y_train)"
   ]
  },
  {
   "cell_type": "code",
   "execution_count": 14,
   "metadata": {},
   "outputs": [
    {
     "data": {
      "text/plain": [
       "array([6, 5, 6, 5, 7, 6, 7, 5, 5, 6, 6, 6, 6, 5, 5, 5, 5, 6, 5, 5, 4, 6,\n",
       "       6, 6, 5, 5, 5, 6, 6, 6, 5, 5, 5, 5, 5, 6, 6, 7, 6, 5, 5, 6, 6, 5,\n",
       "       7, 5, 6, 6, 6, 6, 5, 5, 6, 5, 6, 6, 5, 5, 6, 6, 6, 5, 6, 6, 5, 5,\n",
       "       5, 6, 6, 6, 5, 7, 6, 6, 6, 6, 5, 6, 6, 5, 6, 5, 5, 5, 6, 5, 6, 6,\n",
       "       6, 5, 5, 5, 5, 6, 6, 5, 6, 5, 6, 6, 5, 6, 6, 7, 5, 6, 5, 5, 5, 6,\n",
       "       5, 5, 5, 6, 5, 5, 5, 5, 5, 6, 6, 7, 5, 5, 5, 6, 7, 6, 5, 5, 5, 6,\n",
       "       6, 7, 5, 5, 6, 5, 6, 5, 6, 5, 5, 6, 5, 6, 7, 6, 6, 5, 5, 5, 5, 5,\n",
       "       5, 6, 6, 5, 5, 6, 5, 6, 6, 6, 6, 7, 5, 5, 6, 5, 6, 6, 6, 5, 5, 5,\n",
       "       7, 5, 7, 7, 6, 6, 6, 6, 6, 6, 5, 5, 6, 5, 5, 5, 5, 5, 5, 5, 7, 6,\n",
       "       7, 7, 5, 6, 6, 7, 6, 5, 5, 5, 6, 5, 5, 5, 5, 5, 5, 6, 5, 7, 6, 5,\n",
       "       6, 7, 6, 5, 5, 6, 5, 5, 6, 5, 5, 5, 5, 6, 5, 6, 7, 5, 6, 7, 6, 6,\n",
       "       5, 5, 6, 5, 5, 6, 5, 6, 6, 6, 5, 6, 6, 5, 5, 5, 6, 5, 6, 6, 6, 5,\n",
       "       5, 6, 6, 5, 7, 5, 7, 6, 6, 5, 6, 5, 5, 6, 5, 5, 7, 4, 6, 5, 6, 6,\n",
       "       5, 5, 5, 7, 5, 6, 6, 5, 6, 5, 7, 7, 5, 7, 5, 5, 6, 6, 6, 5, 5, 5,\n",
       "       7, 5, 6, 5, 6, 6, 5, 6, 6, 6, 7, 5])"
      ]
     },
     "execution_count": 14,
     "metadata": {},
     "output_type": "execute_result"
    }
   ],
   "source": [
    "#validate\n",
    "y_val_pred_kn = knn_model.predict(x_validate)\n",
    "y_val_pred_kn"
   ]
  },
  {
   "cell_type": "code",
   "execution_count": 15,
   "metadata": {},
   "outputs": [
    {
     "name": "stdout",
     "output_type": "stream",
     "text": [
      "0.540625, 0.5274205988164805, 0.540625, 0.5303196809325342\n"
     ]
    },
    {
     "name": "stderr",
     "output_type": "stream",
     "text": [
      "/opt/anaconda3/lib/python3.8/site-packages/sklearn/metrics/_classification.py:1221: UndefinedMetricWarning: Precision is ill-defined and being set to 0.0 in labels with no predicted samples. Use `zero_division` parameter to control this behavior.\n",
      "  _warn_prf(average, modifier, msg_start, len(result))\n"
     ]
    }
   ],
   "source": [
    "accuracy = metrics.accuracy_score(y_validate,y_val_pred_kn)\n",
    "precision = metrics.precision_score(y_validate,y_val_pred_kn, average='weighted')\n",
    "recall = metrics.recall_score(y_validate,y_val_pred_kn, average='weighted')\n",
    "f1 = metrics.f1_score(y_validate,y_val_pred_kn, average='weighted')\n",
    "\n",
    "print(f'{accuracy}, {precision}, {recall}, {f1}')"
   ]
  },
  {
   "cell_type": "markdown",
   "metadata": {},
   "source": [
    "## 4.2 Naive Bayes (Gaussian)"
   ]
  },
  {
   "cell_type": "code",
   "execution_count": 16,
   "metadata": {},
   "outputs": [],
   "source": [
    "from sklearn.naive_bayes import GaussianNB"
   ]
  },
  {
   "cell_type": "code",
   "execution_count": 17,
   "metadata": {},
   "outputs": [
    {
     "data": {
      "text/plain": [
       "GaussianNB()"
      ]
     },
     "execution_count": 17,
     "metadata": {},
     "output_type": "execute_result"
    }
   ],
   "source": [
    "gnb_model = GaussianNB()\n",
    "gnb_model.fit(x_train, y_train)"
   ]
  },
  {
   "cell_type": "code",
   "execution_count": 18,
   "metadata": {},
   "outputs": [
    {
     "data": {
      "text/plain": [
       "array([6, 6, 5, 6, 6, 6, 6, 5, 6, 5, 6, 5, 6, 5, 6, 5, 5, 6, 5, 5, 5, 6,\n",
       "       5, 6, 5, 5, 5, 5, 5, 6, 5, 5, 5, 5, 5, 5, 6, 6, 6, 5, 6, 5, 5, 5,\n",
       "       6, 5, 6, 6, 6, 6, 5, 6, 5, 5, 6, 6, 5, 5, 6, 5, 5, 5, 5, 5, 5, 5,\n",
       "       5, 6, 6, 6, 5, 6, 6, 6, 7, 6, 5, 6, 6, 5, 6, 5, 5, 5, 5, 5, 5, 5,\n",
       "       4, 5, 5, 5, 5, 7, 5, 5, 6, 5, 6, 6, 5, 5, 5, 6, 5, 5, 5, 5, 5, 7,\n",
       "       5, 5, 6, 7, 5, 5, 5, 6, 5, 6, 5, 6, 5, 5, 5, 5, 6, 6, 5, 5, 5, 6,\n",
       "       5, 6, 5, 5, 5, 5, 6, 5, 6, 5, 5, 5, 6, 6, 6, 6, 6, 5, 5, 5, 5, 5,\n",
       "       7, 6, 5, 5, 5, 5, 5, 6, 5, 6, 5, 6, 6, 4, 6, 5, 6, 6, 6, 5, 6, 5,\n",
       "       6, 5, 6, 6, 5, 6, 5, 6, 5, 6, 5, 5, 6, 5, 5, 5, 5, 5, 5, 5, 6, 6,\n",
       "       7, 6, 5, 5, 7, 6, 5, 5, 5, 5, 6, 4, 6, 5, 5, 5, 5, 6, 5, 6, 6, 5,\n",
       "       6, 6, 5, 5, 5, 6, 5, 5, 6, 5, 5, 6, 5, 6, 5, 5, 6, 5, 6, 6, 6, 6,\n",
       "       5, 5, 5, 5, 4, 6, 5, 7, 6, 6, 5, 5, 6, 5, 5, 6, 6, 5, 6, 6, 7, 5,\n",
       "       5, 5, 4, 5, 7, 6, 6, 6, 5, 5, 5, 5, 5, 5, 5, 5, 6, 6, 6, 5, 6, 5,\n",
       "       5, 6, 5, 6, 5, 6, 5, 6, 5, 5, 6, 6, 5, 6, 5, 5, 5, 6, 5, 6, 5, 5,\n",
       "       6, 5, 7, 5, 6, 6, 5, 6, 7, 6, 6, 5])"
      ]
     },
     "execution_count": 18,
     "metadata": {},
     "output_type": "execute_result"
    }
   ],
   "source": [
    "#validate\n",
    "y_val_pred_nb = gnb_model.predict(x_validate)\n",
    "y_val_pred_nb"
   ]
  },
  {
   "cell_type": "code",
   "execution_count": 19,
   "metadata": {},
   "outputs": [
    {
     "name": "stdout",
     "output_type": "stream",
     "text": [
      "0.525, 0.4775787601626017, 0.525, 0.4892222614561893\n"
     ]
    },
    {
     "name": "stderr",
     "output_type": "stream",
     "text": [
      "/opt/anaconda3/lib/python3.8/site-packages/sklearn/metrics/_classification.py:1221: UndefinedMetricWarning: Precision is ill-defined and being set to 0.0 in labels with no predicted samples. Use `zero_division` parameter to control this behavior.\n",
      "  _warn_prf(average, modifier, msg_start, len(result))\n"
     ]
    }
   ],
   "source": [
    "accuracy = metrics.accuracy_score(y_validate,y_val_pred_nb)\n",
    "precision = metrics.precision_score(y_validate,y_val_pred_nb, average='weighted')\n",
    "recall = metrics.recall_score(y_validate,y_val_pred_nb, average='weighted')\n",
    "f1 = metrics.f1_score(y_validate,y_val_pred_nb, average='weighted')\n",
    "\n",
    "print(f'{accuracy}, {precision}, {recall}, {f1}')"
   ]
  },
  {
   "cell_type": "markdown",
   "metadata": {},
   "source": [
    "## 4.3 Random Forest\n",
    "- Best So far"
   ]
  },
  {
   "cell_type": "code",
   "execution_count": 20,
   "metadata": {},
   "outputs": [],
   "source": [
    "from sklearn.ensemble import RandomForestClassifier"
   ]
  },
  {
   "cell_type": "code",
   "execution_count": 21,
   "metadata": {},
   "outputs": [
    {
     "name": "stdout",
     "output_type": "stream",
     "text": [
      "0.565625, 0.530237407101569, 0.565625, 0.5261792220048618\n"
     ]
    },
    {
     "name": "stderr",
     "output_type": "stream",
     "text": [
      "/opt/anaconda3/lib/python3.8/site-packages/sklearn/metrics/_classification.py:1221: UndefinedMetricWarning: Precision is ill-defined and being set to 0.0 in labels with no predicted samples. Use `zero_division` parameter to control this behavior.\n",
      "  _warn_prf(average, modifier, msg_start, len(result))\n"
     ]
    }
   ],
   "source": [
    "rfc_model1 = RandomForestClassifier(max_depth=3, random_state=49)\n",
    "rfc_model1.fit(x_train,y_train)\n",
    "\n",
    "#validate\n",
    "y_val_pred_rf1 = rfc_model1.predict(x_validate)\n",
    "\n",
    "#score\n",
    "accuracy = metrics.accuracy_score(y_validate,y_val_pred_rf1)\n",
    "precision = metrics.precision_score(y_validate,y_val_pred_rf1, average='weighted')\n",
    "recall = metrics.recall_score(y_validate,y_val_pred_rf1, average='weighted')\n",
    "f1 = metrics.f1_score(y_validate,y_val_pred_rf1, average='weighted')\n",
    "\n",
    "print(f'{accuracy}, {precision}, {recall}, {f1}')"
   ]
  },
  {
   "cell_type": "code",
   "execution_count": 38,
   "metadata": {},
   "outputs": [
    {
     "name": "stdout",
     "output_type": "stream",
     "text": [
      "0.6375, 0.6303055436643835, 0.6375, 0.630524460935\n"
     ]
    },
    {
     "name": "stderr",
     "output_type": "stream",
     "text": [
      "/opt/anaconda3/lib/python3.8/site-packages/sklearn/metrics/_classification.py:1221: UndefinedMetricWarning: Precision is ill-defined and being set to 0.0 in labels with no predicted samples. Use `zero_division` parameter to control this behavior.\n",
      "  _warn_prf(average, modifier, msg_start, len(result))\n"
     ]
    }
   ],
   "source": [
    "rfc_model2 = RandomForestClassifier(max_depth=20, n_estimators=200, random_state=49)\n",
    "rfc_model2.fit(x_train,y_train)\n",
    "\n",
    "#validate\n",
    "y_val_pred_rf2 = rfc_model2.predict(x_validate)\n",
    "\n",
    "#score\n",
    "accuracy = metrics.accuracy_score(y_validate,y_val_pred_rf2)\n",
    "precision = metrics.precision_score(y_validate,y_val_pred_rf2, average='weighted')\n",
    "recall = metrics.recall_score(y_validate,y_val_pred_rf2, average='weighted')\n",
    "f1 = metrics.f1_score(y_validate,y_val_pred_rf2, average='weighted')\n",
    "\n",
    "print(f'{accuracy}, {precision}, {recall}, {f1}')"
   ]
  },
  {
   "cell_type": "markdown",
   "metadata": {},
   "source": [
    "This last model works the best of all the models that have been tried. This will be used for the analysis"
   ]
  },
  {
   "cell_type": "markdown",
   "metadata": {},
   "source": [
    "### 4.3.1 Testing Our Model"
   ]
  },
  {
   "cell_type": "code",
   "execution_count": 23,
   "metadata": {},
   "outputs": [],
   "source": [
    "y_pred_rf2 = rfc_model2.predict(x_test)"
   ]
  },
  {
   "cell_type": "code",
   "execution_count": 24,
   "metadata": {},
   "outputs": [
    {
     "name": "stdout",
     "output_type": "stream",
     "text": [
      "0.590625, 0.5556495098039216, 0.590625, 0.5691413805609284\n"
     ]
    },
    {
     "name": "stderr",
     "output_type": "stream",
     "text": [
      "/opt/anaconda3/lib/python3.8/site-packages/sklearn/metrics/_classification.py:1221: UndefinedMetricWarning: Precision is ill-defined and being set to 0.0 in labels with no predicted samples. Use `zero_division` parameter to control this behavior.\n",
      "  _warn_prf(average, modifier, msg_start, len(result))\n"
     ]
    }
   ],
   "source": [
    "accuracy = metrics.accuracy_score(y_test,y_pred_rf2)\n",
    "precision = metrics.precision_score(y_test,y_pred_rf2, average='weighted')\n",
    "recall = metrics.recall_score(y_test,y_pred_rf2, average='weighted')\n",
    "f1 = metrics.f1_score(y_test,y_pred_rf2, average='weighted')\n",
    "\n",
    "print(f'{accuracy}, {precision}, {recall}, {f1}')"
   ]
  },
  {
   "cell_type": "markdown",
   "metadata": {},
   "source": [
    "NOTE: It is not useful to run any ROC Curve analysis on this model because ROC curves are used for binary classifiers, and this is a non-binary classifier. Because of this, it is not a good idea to do an ROC curve. "
   ]
  },
  {
   "cell_type": "markdown",
   "metadata": {},
   "source": [
    "## 5.0 Testing Other Experiment Parameters"
   ]
  },
  {
   "cell_type": "markdown",
   "metadata": {},
   "source": [
    "### 5.1\n",
    "50/25/25 split for train, validate, and test  \n",
    "Standard deviation normalization"
   ]
  },
  {
   "cell_type": "code",
   "execution_count": 33,
   "metadata": {},
   "outputs": [
    {
     "name": "stdout",
     "output_type": "stream",
     "text": [
      "Validate: 0.575, 0.5603941441441441, 0.575, 0.5640605527284872\n",
      "Test: 0.3825, 0.3633584724005135, 0.3825, 0.3712857142857143\n"
     ]
    },
    {
     "name": "stderr",
     "output_type": "stream",
     "text": [
      "/opt/anaconda3/lib/python3.8/site-packages/sklearn/metrics/_classification.py:1221: UndefinedMetricWarning: Precision is ill-defined and being set to 0.0 in labels with no predicted samples. Use `zero_division` parameter to control this behavior.\n",
      "  _warn_prf(average, modifier, msg_start, len(result))\n"
     ]
    }
   ],
   "source": [
    "#groups\n",
    "X = np.array(reds[['fixed_acid','sugar','alcohol']])\n",
    "y = np.array(reds['quality'])\n",
    "\n",
    "#split\n",
    "x_train, x_test_prime, y_train, y_test_prime = train_test_split(X, y, test_size=.50, random_state=49)\n",
    "x_validate, x_test, y_validate, y_test = train_test_split(x_test_prime, y_test_prime, test_size=.50, random_state=49)\n",
    "\n",
    "#normalization\n",
    "x_train_scaled = std_scaler(x_train)\n",
    "x_validate_scaled = std_scaler(x_validate)\n",
    "x_test_scaled = std_scaler(x_test)\n",
    "\n",
    "#producing a model\n",
    "rfc_model3 = RandomForestClassifier(max_depth=20, n_estimators=200, random_state=49)\n",
    "rfc_model3.fit(x_train,y_train)\n",
    "\n",
    "#validate\n",
    "y_val_pred_rf3 = rfc_model3.predict(x_validate)\n",
    "\n",
    "#score\n",
    "accuracy = metrics.accuracy_score(y_validate,y_val_pred_rf3)\n",
    "precision = metrics.precision_score(y_validate,y_val_pred_rf3, average='weighted')\n",
    "recall = metrics.recall_score(y_validate,y_val_pred_rf3, average='weighted')\n",
    "f1 = metrics.f1_score(y_validate,y_val_pred_rf3, average='weighted')\n",
    "\n",
    "print(f'Validate: {accuracy}, {precision}, {recall}, {f1}')\n",
    "\n",
    "#test\n",
    "y_pred_rf3 = rfc_model3.predict(x_test)\n",
    "\n",
    "accuracy = metrics.accuracy_score(y_validate,y_pred_rf3)\n",
    "precision = metrics.precision_score(y_validate,y_pred_rf3, average='weighted')\n",
    "recall = metrics.recall_score(y_validate,y_pred_rf3, average='weighted')\n",
    "f1 = metrics.f1_score(y_validate,y_pred_rf3, average='weighted')\n",
    "\n",
    "print(f'Test: {accuracy}, {precision}, {recall}, {f1}')"
   ]
  },
  {
   "cell_type": "markdown",
   "metadata": {},
   "source": [
    "### 5.2 \n",
    "70/15/15 split for train, validate, and test  \n",
    "Standard deviation normalization"
   ]
  },
  {
   "cell_type": "code",
   "execution_count": 34,
   "metadata": {},
   "outputs": [
    {
     "name": "stdout",
     "output_type": "stream",
     "text": [
      "Validate: 0.56875, 0.5699542523684304, 0.56875, 0.5651513016557617\n",
      "Test: 0.38125, 0.37325549450549456, 0.38125, 0.367952753014437\n"
     ]
    }
   ],
   "source": [
    "#groups\n",
    "X = np.array(reds[['fixed_acid','sugar','alcohol']])\n",
    "y = np.array(reds['quality'])\n",
    "\n",
    "#split\n",
    "x_train, x_test_prime, y_train, y_test_prime = train_test_split(X, y, test_size=.20, random_state=49)\n",
    "x_validate, x_test, y_validate, y_test = train_test_split(x_test_prime, y_test_prime, test_size=.50, random_state=49)\n",
    "\n",
    "#normalization\n",
    "x_train_scaled = std_scaler(x_train)\n",
    "x_validate_scaled = std_scaler(x_validate)\n",
    "x_test_scaled = std_scaler(x_test)\n",
    "\n",
    "#producing a model\n",
    "rfc_model3 = RandomForestClassifier(max_depth=30, n_estimators=200, random_state=49)\n",
    "rfc_model3.fit(x_train,y_train)\n",
    "\n",
    "#validate\n",
    "y_val_pred_rf3 = rfc_model3.predict(x_validate)\n",
    "\n",
    "#score\n",
    "accuracy = metrics.accuracy_score(y_validate,y_val_pred_rf3)\n",
    "precision = metrics.precision_score(y_validate,y_val_pred_rf3, average='weighted')\n",
    "recall = metrics.recall_score(y_validate,y_val_pred_rf3, average='weighted')\n",
    "f1 = metrics.f1_score(y_validate,y_val_pred_rf3, average='weighted')\n",
    "\n",
    "print(f'Validate: {accuracy}, {precision}, {recall}, {f1}')\n",
    "\n",
    "#test\n",
    "y_pred_rf3 = rfc_model3.predict(x_test)\n",
    "\n",
    "accuracy = metrics.accuracy_score(y_validate,y_pred_rf3)\n",
    "precision = metrics.precision_score(y_validate,y_pred_rf3, average='weighted')\n",
    "recall = metrics.recall_score(y_validate,y_pred_rf3, average='weighted')\n",
    "f1 = metrics.f1_score(y_validate,y_pred_rf3, average='weighted')\n",
    "\n",
    "print(f'Test: {accuracy}, {precision}, {recall}, {f1}')"
   ]
  },
  {
   "cell_type": "markdown",
   "metadata": {},
   "source": [
    "### 5.3\n",
    "50/25/25 split train, validate, test  \n",
    "Raw features"
   ]
  },
  {
   "cell_type": "code",
   "execution_count": 35,
   "metadata": {},
   "outputs": [
    {
     "name": "stdout",
     "output_type": "stream",
     "text": [
      "Validate :0.56875, 0.5699542523684304, 0.56875, 0.5651513016557617\n",
      "Test: 0.38125, 0.37325549450549456, 0.38125, 0.367952753014437\n"
     ]
    }
   ],
   "source": [
    "#groups\n",
    "X = np.array(reds[['fixed_acid','sugar','alcohol']])\n",
    "y = np.array(reds['quality'])\n",
    "\n",
    "#split\n",
    "x_train, x_test_prime, y_train, y_test_prime = train_test_split(X, y, test_size=.20, random_state=49)\n",
    "x_validate, x_test, y_validate, y_test = train_test_split(x_test_prime, y_test_prime, test_size=.50, random_state=49)\n",
    "\n",
    "#producing a model\n",
    "rfc_model3 = RandomForestClassifier(max_depth=30, n_estimators=200, random_state=49)\n",
    "rfc_model3.fit(x_train,y_train)\n",
    "\n",
    "#validate\n",
    "y_val_pred_rf3 = rfc_model3.predict(x_validate)\n",
    "\n",
    "#score\n",
    "accuracy = metrics.accuracy_score(y_validate,y_val_pred_rf3)\n",
    "precision = metrics.precision_score(y_validate,y_val_pred_rf3, average='weighted')\n",
    "recall = metrics.recall_score(y_validate,y_val_pred_rf3, average='weighted')\n",
    "f1 = metrics.f1_score(y_validate,y_val_pred_rf3, average='weighted')\n",
    "\n",
    "print(f'Validate :{accuracy}, {precision}, {recall}, {f1}')\n",
    "\n",
    "#test\n",
    "y_pred_rf3 = rfc_model3.predict(x_test)\n",
    "\n",
    "accuracy = metrics.accuracy_score(y_validate,y_pred_rf3)\n",
    "precision = metrics.precision_score(y_validate,y_pred_rf3, average='weighted')\n",
    "recall = metrics.recall_score(y_validate,y_pred_rf3, average='weighted')\n",
    "f1 = metrics.f1_score(y_validate,y_pred_rf3, average='weighted')\n",
    "\n",
    "print(f'Test: {accuracy}, {precision}, {recall}, {f1}')"
   ]
  },
  {
   "cell_type": "markdown",
   "metadata": {},
   "source": [
    "### 5.4\n",
    "60/20/20 split train, validate, test  \n",
    "Raw features"
   ]
  },
  {
   "cell_type": "code",
   "execution_count": 36,
   "metadata": {},
   "outputs": [
    {
     "name": "stdout",
     "output_type": "stream",
     "text": [
      "Validate: 0.634375, 0.6270324946671999, 0.634375, 0.6268971578151386\n",
      "Test: 0.409375, 0.3870747202201871, 0.409375, 0.3970484511008705\n"
     ]
    },
    {
     "name": "stderr",
     "output_type": "stream",
     "text": [
      "/opt/anaconda3/lib/python3.8/site-packages/sklearn/metrics/_classification.py:1221: UndefinedMetricWarning: Precision is ill-defined and being set to 0.0 in labels with no predicted samples. Use `zero_division` parameter to control this behavior.\n",
      "  _warn_prf(average, modifier, msg_start, len(result))\n",
      "/opt/anaconda3/lib/python3.8/site-packages/sklearn/metrics/_classification.py:1221: UndefinedMetricWarning: Precision is ill-defined and being set to 0.0 in labels with no predicted samples. Use `zero_division` parameter to control this behavior.\n",
      "  _warn_prf(average, modifier, msg_start, len(result))\n"
     ]
    }
   ],
   "source": [
    "#groups\n",
    "X = np.array(reds[['fixed_acid','sugar','alcohol']])\n",
    "y = np.array(reds['quality'])\n",
    "\n",
    "#split\n",
    "x_train, x_test_prime, y_train, y_test_prime = train_test_split(X, y, test_size=.40, random_state=49)\n",
    "x_validate, x_test, y_validate, y_test = train_test_split(x_test_prime, y_test_prime, test_size=.50, random_state=49)\n",
    "\n",
    "#producing a model\n",
    "rfc_model3 = RandomForestClassifier(max_depth=30, n_estimators=200, random_state=49)\n",
    "rfc_model3.fit(x_train,y_train)\n",
    "\n",
    "#validate\n",
    "y_val_pred_rf3 = rfc_model3.predict(x_validate)\n",
    "\n",
    "#score\n",
    "accuracy = metrics.accuracy_score(y_validate,y_val_pred_rf3)\n",
    "precision = metrics.precision_score(y_validate,y_val_pred_rf3, average='weighted')\n",
    "recall = metrics.recall_score(y_validate,y_val_pred_rf3, average='weighted')\n",
    "f1 = metrics.f1_score(y_validate,y_val_pred_rf3, average='weighted')\n",
    "\n",
    "print(f'Validate: {accuracy}, {precision}, {recall}, {f1}')\n",
    "\n",
    "#test\n",
    "y_pred_rf3 = rfc_model3.predict(x_test)\n",
    "\n",
    "accuracy = metrics.accuracy_score(y_validate,y_pred_rf3)\n",
    "precision = metrics.precision_score(y_validate,y_pred_rf3, average='weighted')\n",
    "recall = metrics.recall_score(y_validate,y_pred_rf3, average='weighted')\n",
    "f1 = metrics.f1_score(y_validate,y_pred_rf3, average='weighted')\n",
    "\n",
    "print(f'Test: {accuracy}, {precision}, {recall}, {f1}')"
   ]
  },
  {
   "cell_type": "markdown",
   "metadata": {},
   "source": [
    "### Discussion\n",
    "As you can see, the original model with random forest was the best. This model used:  \n",
    "- Random Forest\n",
    "- 60/20/20 Train, validate, and test data spliting\n",
    "- max 30 depth of tree\n",
    "- 200 trees max per forest\n",
    "- fixed acid, sugar, alcohol for the features\n"
   ]
  }
 ],
 "metadata": {
  "kernelspec": {
   "display_name": "Python 3",
   "language": "python",
   "name": "python3"
  },
  "language_info": {
   "codemirror_mode": {
    "name": "ipython",
    "version": 3
   },
   "file_extension": ".py",
   "mimetype": "text/x-python",
   "name": "python",
   "nbconvert_exporter": "python",
   "pygments_lexer": "ipython3",
   "version": "3.8.3"
  }
 },
 "nbformat": 4,
 "nbformat_minor": 4
}
